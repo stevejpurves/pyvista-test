{
 "cells": [
  {
   "cell_type": "code",
   "execution_count": 1,
   "id": "f97c52ac-66eb-42ed-be10-ba98c268efe1",
   "metadata": {},
   "outputs": [
    {
     "data": {
      "application/vnd.jupyter.widget-view+json": {
       "model_id": "7b5dcbdd47f54082a446516359dbac7b",
       "version_major": 2,
       "version_minor": 0
      },
      "text/plain": [
       "Widget(value=\"<iframe src='http://localhost:59308/index.html?ui=P_0x30549c790_0&reconnect=auto' style='width: …"
      ]
     },
     "metadata": {},
     "output_type": "display_data"
    },
    {
     "name": "stdout",
     "output_type": "stream",
     "text": [
      "A view with name (P_0x30549c790_0) is already registered\n",
      " => returning previous one\n",
      "21ed7dc21849f7cf29f7376818ec254e1f366e7291fbd8d8\n"
     ]
    }
   ],
   "source": [
    "import pyvista as pv\n",
    "from pyvista.trame.jupyter import Widget as PVWidget\n",
    "import os\n",
    "\n",
    "pv.set_jupyter_backend(\"trame\")\n",
    "\n",
    "cn_prefix = 'http://10.75.27.220:8000/'\n",
    "jh_prefix = os.environ.get(\"JUPYTERHUB_SERVICE_PREFIX\",None)\n",
    "if cn_prefix is not None and jh_prefix is not None:\n",
    "    pv.global_theme.trame.server_proxy_prefix = cn_prefix + jh_prefix + \"proxy/\"\n",
    "\n",
    "pl = pv.Plotter()\n",
    "pl.add_mesh(pv.ParametricKlein())\n",
    "pl.show()\n",
    "\n",
    "def backendHandler(viewer, src, **kwargs):\n",
    "    token = os.environ.get(\"JUPYTER_SERVER_USER_TOKEN\",None)\n",
    "    print(token)\n",
    "    if (token):\n",
    "        src = src + f\"&token={token}\"\n",
    "    return PVWidget(viewer, src, **kwargs)\n",
    "\n",
    "viewer = pl.show(\n",
    "    return_viewer = True,\n",
    "    interactive_update=True,\n",
    "    window_size=(440,440),\n",
    "    jupyter_kwargs={'collapse_menu':True, 'handler':backendHandler},\n",
    ")"
   ]
  },
  {
   "cell_type": "code",
   "execution_count": null,
   "id": "7e6b3f8f-238c-4aa9-b57c-99862697d758",
   "metadata": {},
   "outputs": [],
   "source": []
  }
 ],
 "metadata": {
  "kernelspec": {
   "display_name": "Python 3 (ipykernel)",
   "language": "python",
   "name": "python3"
  },
  "language_info": {
   "codemirror_mode": {
    "name": "ipython",
    "version": 3
   },
   "file_extension": ".py",
   "mimetype": "text/x-python",
   "name": "python",
   "nbconvert_exporter": "python",
   "pygments_lexer": "ipython3",
   "version": "3.11.4"
  }
 },
 "nbformat": 4,
 "nbformat_minor": 5
}
