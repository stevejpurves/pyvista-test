{
 "cells": [
  {
   "cell_type": "code",
   "execution_count": 6,
   "id": "f97c52ac-66eb-42ed-be10-ba98c268efe1",
   "metadata": {},
   "outputs": [
    {
     "data": {
      "application/vnd.jupyter.widget-view+json": {
       "model_id": "37447cbf9fe74592b1afadc31cd4fdb5",
       "version_major": 2,
       "version_minor": 0
      },
      "text/plain": [
       "Widget(value='<iframe src=\"http://localhost:49695/index.html?ui=P_0x16430c890_4&reconnect=auto\" class=\"pyvista…"
      ]
     },
     "metadata": {},
     "output_type": "display_data"
    },
    {
     "name": "stdout",
     "output_type": "stream",
     "text": [
      "A view with name (P_0x16430c890_4) is already registered\n",
      " => returning previous one\n"
     ]
    }
   ],
   "source": [
    "import pyvista as pv\n",
    "from pyvista.trame.jupyter import Widget as PVWidget\n",
    "import os\n",
    "\n",
    "pv.set_jupyter_backend(\"trame\")\n",
    "\n",
    "# cn_prefix = 'http://10.75.27.220:8000/'\n",
    "# jh_prefix = os.environ.get(\"JUPYTERHUB_SERVICE_PREFIX\",None)\n",
    "# if cn_prefix is not None and jh_prefix is not None:\n",
    "#     pv.global_theme.trame.server_proxy_prefix = cn_prefix + jh_prefix + \"proxy/\"\n",
    "\n",
    "pl = pv.Plotter()\n",
    "pl.add_mesh(pv.ParametricKlein())\n",
    "pl.show()\n",
    "\n",
    "# def backendHandler(viewer, src, **kwargs):\n",
    "#     token = os.environ.get(\"JUPYTER_SERVER_USER_TOKEN\",None)\n",
    "#     print(token)\n",
    "#     if (token):\n",
    "#         src = src + f\"&token={token}\"\n",
    "#     return PVWidget(viewer, src, **kwargs)\n",
    "\n",
    "viewer = pl.show(\n",
    "    return_viewer = True,\n",
    "    interactive_update=True,\n",
    "    window_size=(440,440),\n",
    "    jupyter_kwargs={'collapse_menu':True},\n",
    ")"
   ]
  },
  {
   "cell_type": "code",
   "execution_count": null,
   "id": "7e6b3f8f-238c-4aa9-b57c-99862697d758",
   "metadata": {},
   "outputs": [],
   "source": []
  }
 ],
 "metadata": {
  "kernelspec": {
   "display_name": "Python 3 (ipykernel)",
   "language": "python",
   "name": "python3"
  },
  "language_info": {
   "codemirror_mode": {
    "name": "ipython",
    "version": 3
   },
   "file_extension": ".py",
   "mimetype": "text/x-python",
   "name": "python",
   "nbconvert_exporter": "python",
   "pygments_lexer": "ipython3",
   "version": "3.12.4"
  },
  "widgets": {
   "application/vnd.jupyter.widget-state+json": {
    "state": {
     "0d2ce3c6df234d67a8786ebd946d76ab": {
      "model_module": "@jupyter-widgets/base",
      "model_module_version": "2.0.0",
      "model_name": "LayoutModel",
      "state": {}
     },
     "164c293e92ec4a5e8248c39afbec514e": {
      "model_module": "@jupyter-widgets/controls",
      "model_module_version": "2.0.0",
      "model_name": "HTMLModel",
      "state": {
       "layout": "IPY_MODEL_e4039104778148afb119e5cfcc14796f",
       "style": "IPY_MODEL_598a6fffe142410b8e6788a8be5be113",
       "value": "<iframe src=\"http://localhost:49695/index.html?ui=P_0x164307c50_2&reconnect=auto\" class=\"pyvista\" style=\"width: 440px; height: 440px; border: 1px solid rgb(221,221,221);\"></iframe>"
      }
     },
     "4269b7aa2aeb49a18251a6127f2ce1b9": {
      "model_module": "@jupyter-widgets/controls",
      "model_module_version": "2.0.0",
      "model_name": "HTMLStyleModel",
      "state": {
       "description_width": "",
       "font_size": null,
       "text_color": null
      }
     },
     "51dbcdc000954b0bb60ecfe559f7d749": {
      "model_module": "@jupyter-widgets/controls",
      "model_module_version": "2.0.0",
      "model_name": "HTMLModel",
      "state": {
       "layout": "IPY_MODEL_0d2ce3c6df234d67a8786ebd946d76ab",
       "style": "IPY_MODEL_a005e931f0b34302ac27dd2f382ffd6e",
       "value": "<iframe src=\"http://localhost:49695/index.html?ui=P_0x164307c50_2&reconnect=auto\" class=\"pyvista\" style=\"width: 99%; height: 600px; border: 1px solid rgb(221,221,221);\"></iframe>"
      }
     },
     "53707a9c00724fdb8e3208a11f6a0baf": {
      "model_module": "@jupyter-widgets/controls",
      "model_module_version": "2.0.0",
      "model_name": "HTMLModel",
      "state": {
       "layout": "IPY_MODEL_93575674a1464b2bb339c0f612182956",
       "style": "IPY_MODEL_697a30bb73554db38911ac9aafc2b8ae",
       "value": "<iframe src=\"http://localhost:49695/index.html?ui=P_0x15ef2da30_0&reconnect=auto\" class=\"pyvista\" style=\"width: 440px; height: 440px; border: 1px solid rgb(221,221,221);\"></iframe>"
      }
     },
     "598a6fffe142410b8e6788a8be5be113": {
      "model_module": "@jupyter-widgets/controls",
      "model_module_version": "2.0.0",
      "model_name": "HTMLStyleModel",
      "state": {
       "description_width": "",
       "font_size": null,
       "text_color": null
      }
     },
     "697a30bb73554db38911ac9aafc2b8ae": {
      "model_module": "@jupyter-widgets/controls",
      "model_module_version": "2.0.0",
      "model_name": "HTMLStyleModel",
      "state": {
       "description_width": "",
       "font_size": null,
       "text_color": null
      }
     },
     "6fb2bb175de14795851c5b94d4bad899": {
      "model_module": "@jupyter-widgets/controls",
      "model_module_version": "2.0.0",
      "model_name": "HTMLStyleModel",
      "state": {
       "description_width": "",
       "font_size": null,
       "text_color": null
      }
     },
     "794d80058666448596efb163cab4a762": {
      "model_module": "@jupyter-widgets/controls",
      "model_module_version": "2.0.0",
      "model_name": "HTMLModel",
      "state": {
       "layout": "IPY_MODEL_cb38f14cdde141a1a36edf992c1eaaba",
       "style": "IPY_MODEL_6fb2bb175de14795851c5b94d4bad899",
       "value": "<iframe src=\"http://localhost:49695/index.html?ui=P_0x15ef2da30_0&reconnect=auto\" class=\"pyvista\" style=\"width: 99%; height: 600px; border: 1px solid rgb(221,221,221);\"></iframe>"
      }
     },
     "7fb2b45996754321a3f8ee03f2b8163b": {
      "model_module": "@jupyter-widgets/controls",
      "model_module_version": "2.0.0",
      "model_name": "HTMLStyleModel",
      "state": {
       "description_width": "",
       "font_size": null,
       "text_color": null
      }
     },
     "8511f7b8cda948668c9d3ca27b1356ad": {
      "model_module": "@jupyter-widgets/base",
      "model_module_version": "2.0.0",
      "model_name": "LayoutModel",
      "state": {}
     },
     "93575674a1464b2bb339c0f612182956": {
      "model_module": "@jupyter-widgets/base",
      "model_module_version": "2.0.0",
      "model_name": "LayoutModel",
      "state": {}
     },
     "a005e931f0b34302ac27dd2f382ffd6e": {
      "model_module": "@jupyter-widgets/controls",
      "model_module_version": "2.0.0",
      "model_name": "HTMLStyleModel",
      "state": {
       "description_width": "",
       "font_size": null,
       "text_color": null
      }
     },
     "b646551285184864a98a88de1c0c983b": {
      "model_module": "@jupyter-widgets/controls",
      "model_module_version": "2.0.0",
      "model_name": "HTMLModel",
      "state": {
       "layout": "IPY_MODEL_8511f7b8cda948668c9d3ca27b1356ad",
       "style": "IPY_MODEL_7fb2b45996754321a3f8ee03f2b8163b",
       "value": "<iframe src=\"http://localhost:49695/index.html?ui=P_0x1643053a0_1&reconnect=auto\" class=\"pyvista\" style=\"width: 440px; height: 440px; border: 1px solid rgb(221,221,221);\"></iframe>"
      }
     },
     "cb38f14cdde141a1a36edf992c1eaaba": {
      "model_module": "@jupyter-widgets/base",
      "model_module_version": "2.0.0",
      "model_name": "LayoutModel",
      "state": {}
     },
     "e4039104778148afb119e5cfcc14796f": {
      "model_module": "@jupyter-widgets/base",
      "model_module_version": "2.0.0",
      "model_name": "LayoutModel",
      "state": {}
     },
     "e544dcf51a814708a096f69434947ff7": {
      "model_module": "@jupyter-widgets/base",
      "model_module_version": "2.0.0",
      "model_name": "LayoutModel",
      "state": {}
     },
     "fc48cf30d2ad41f2999385c3d7d79e48": {
      "model_module": "@jupyter-widgets/controls",
      "model_module_version": "2.0.0",
      "model_name": "HTMLModel",
      "state": {
       "layout": "IPY_MODEL_e544dcf51a814708a096f69434947ff7",
       "style": "IPY_MODEL_4269b7aa2aeb49a18251a6127f2ce1b9",
       "value": "<iframe src=\"http://localhost:49695/index.html?ui=P_0x1643053a0_1&reconnect=auto\" class=\"pyvista\" style=\"width: 99%; height: 600px; border: 1px solid rgb(221,221,221);\"></iframe>"
      }
     }
    },
    "version_major": 2,
    "version_minor": 0
   }
  }
 },
 "nbformat": 4,
 "nbformat_minor": 5
}
